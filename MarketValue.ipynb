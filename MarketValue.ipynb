{
  "nbformat": 4,
  "nbformat_minor": 0,
  "metadata": {
    "colab": {
      "name": "MarketValue.ipynb",
      "provenance": [],
      "authorship_tag": "ABX9TyPKdOg9tUmQiFgINdx1ilO/",
      "include_colab_link": true
    },
    "kernelspec": {
      "name": "python3",
      "display_name": "Python 3"
    }
  },
  "cells": [
    {
      "cell_type": "markdown",
      "metadata": {
        "id": "view-in-github",
        "colab_type": "text"
      },
      "source": [
        "<a href=\"https://colab.research.google.com/github/oshanoshu/PremierLeagueTransferMarket/blob/main/MarketValue.ipynb\" target=\"_parent\"><img src=\"https://colab.research.google.com/assets/colab-badge.svg\" alt=\"Open In Colab\"/></a>"
      ]
    },
    {
      "cell_type": "markdown",
      "metadata": {
        "id": "dFhs1I9N4Bf8"
      },
      "source": [
        "#Here, we are analyzing the market value of the Premier League top 6 clubs."
      ]
    },
    {
      "cell_type": "code",
      "metadata": {
        "id": "5247a3jm4CbH"
      },
      "source": [
        ""
      ],
      "execution_count": null,
      "outputs": []
    }
  ]
}